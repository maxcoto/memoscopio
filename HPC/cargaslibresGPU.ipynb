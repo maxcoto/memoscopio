{
  "nbformat": 4,
  "nbformat_minor": 0,
  "metadata": {
    "colab": {
      "name": "Colab animations.ipynb",
      "provenance": [],
      "collapsed_sections": [],
      "include_colab_link": true
    },
    "kernelspec": {
      "name": "python3",
      "display_name": "Python 3"
    }
  },
  "cells": [
    {
      "cell_type": "markdown",
      "metadata": {
        "id": "view-in-github",
        "colab_type": "text"
      },
      "source": [
        "<a href=\"https://colab.research.google.com/github/maxiperezc/memoscopio/blob/master/HPC/cargaslibresGPU.ipynb\" target=\"_parent\"><img src=\"https://colab.research.google.com/assets/colab-badge.svg\" alt=\"Open In Colab\"/></a>"
      ]
    },
    {
      "cell_type": "markdown",
      "metadata": {
        "id": "wjYHlSEhrf2F"
      },
      "source": [
        "# Install CUDA"
      ]
    },
    {
      "cell_type": "code",
      "metadata": {
        "id": "dgMOwx71rb4i",
        "outputId": "ea45454f-bbb6-4ede-e298-1bbc87999bb1",
        "colab": {
          "base_uri": "https://localhost:8080/"
        }
      },
      "source": [
        "!pip install pycuda"
      ],
      "execution_count": null,
      "outputs": [
        {
          "output_type": "stream",
          "text": [
            "Collecting pycuda\n",
            "\u001b[?25l  Downloading https://files.pythonhosted.org/packages/46/61/47d3235a4c13eec5a5f03594ddb268f4858734e02980afbcd806e6242fa5/pycuda-2020.1.tar.gz (1.6MB)\n",
            "\u001b[K     |████████████████████████████████| 1.6MB 5.7MB/s \n",
            "\u001b[?25hCollecting pytools>=2011.2\n",
            "\u001b[?25l  Downloading https://files.pythonhosted.org/packages/b7/30/c9362a282ef89106768cba9d884f4b2e4f5dc6881d0c19b478d2a710b82b/pytools-2020.4.3.tar.gz (62kB)\n",
            "\u001b[K     |████████████████████████████████| 71kB 6.5MB/s \n",
            "\u001b[?25hRequirement already satisfied: decorator>=3.2.0 in /usr/local/lib/python3.6/dist-packages (from pycuda) (4.4.2)\n",
            "Collecting appdirs>=1.4.0\n",
            "  Downloading https://files.pythonhosted.org/packages/3b/00/2344469e2084fb287c2e0b57b72910309874c3245463acd6cf5e3db69324/appdirs-1.4.4-py2.py3-none-any.whl\n"
          ],
          "name": "stdout"
        }
      ]
    },
    {
      "cell_type": "markdown",
      "metadata": {
        "id": "DqCDR6mqeCqx"
      },
      "source": [
        "# Cargas Electricas Libres en 2D - GPU"
      ]
    },
    {
      "cell_type": "code",
      "metadata": {
        "id": "k_h10_kNuTjy",
        "outputId": "5548c580-d29c-4702-e854-ffe4eff4ad13",
        "colab": {
          "base_uri": "https://localhost:8080/",
          "height": 388
        }
      },
      "source": [
        "%matplotlib inline\n",
        "import pycuda.driver as cuda\n",
        "import pycuda.autoinit\n",
        "from pycuda.compiler import SourceModule\n",
        "\n",
        "import numpy\n",
        "import matplotlib.pyplot as plt\n",
        "from matplotlib import animation, rc\n",
        "from IPython.display import HTML\n",
        "from datetime import datetime\n",
        "\n",
        "\n",
        "module = SourceModule(\"\"\"\n",
        "__global__ void kernel_newpos( int i, int j, float *X, float *Y )\n",
        "{\n",
        "  int idx = threadIdx.x + blockIdx.x*blockDim.x;\n",
        "  int idy = threadIdx.y + blockIdx.y*blockDim.y;\n",
        "  float dx;\n",
        "  float dy;\n",
        "\n",
        "  if( idx < i && idy < j && i != j){\n",
        "    dx = X[idy] - X[idx];\n",
        "    dy = Y[idy] - Y[idx];\n",
        "\n",
        "    rsq = pow(dx,2) + pow(dy,2);\n",
        "    rrt = rsq * sqrt(rsq);\n",
        "\n",
        "    if(rrt > 1){\n",
        "      ch = 1; //carga[i]*carga[j];\n",
        "      X[idx] -= ch*dx/rrt;\n",
        "      Y[idx] -= ch*dy/rrt;\n",
        "    }\n",
        "  }\n",
        "}\n",
        "\"\"\") \n",
        "\n",
        "tiempo_total = datetime.now()\n",
        "tiempo_en_ms = lambda dt:(dt.days * 24 * 60 * 60 + dt.seconds) * 1000 + dt.microseconds / 1000.0\n",
        "tiempo_bucle = datetime.now()\n",
        "\n",
        "positivas = 80\n",
        "negativas = 1\n",
        "numpoints = positivas + negativas\n",
        "colores = ['blue'] * positivas + ['red'] * negativas \n",
        "\n",
        "def move():\n",
        "  x_cpu  = numpy.random.uniform(10.0, 30.0, size=numpoints)\n",
        "  y_cpu  = numpy.random.uniform(10.0, 30.0, size=numpoints)\n",
        "  carga  = [1] * positivas + [-1] * negativas \n",
        "  vx_cpu = numpy.empty_like( x_cpu )\n",
        "  vy_cpu = numpy.empty_like( y_cpu )\n",
        "\n",
        "  x_gpu = cuda.mem_alloc( x_cpu.nbytes )\n",
        "  y_gpu = cuda.mem_alloc( y_cpu.nbytes )\n",
        "  cuda.memcpy_htod( x_gpu, x_cpu )\n",
        "  cuda.memcpy_htod( y_gpu, y_cpu )\n",
        "\n",
        "  vx_gpu = cuda.mem_alloc( vx_cpu.nbytes )\n",
        "  vy_gpu = cuda.mem_alloc( vy_cpu.nbytes )\n",
        "  cuda.memcpy_htod( vx_gpu, vx_cpu )\n",
        "  cuda.memcpy_htod( vy_gpu, vy_cpu )\n",
        "\n",
        "  kernel = module.get_function(\"kernel_newpos\")\n",
        "\n",
        "  dim_hilo_x = 16\n",
        "  dim_bloque_x = numpy.int( (numpoints+dim_hilo_x-1) / dim_hilo_x )\n",
        "\n",
        "  dim_hilo_y = 16\n",
        "  dim_bloque_y = numpy.int( (numpoints+dim_hilo_y-1) / dim_hilo_y )\n",
        "\n",
        "  while True:    \n",
        "    kernel( numpy.int32(numpoints), numpy.int32(numpoints), x_gpu, y_gpu, block=( dim_hilo_x, dim_hilo_y, 1 ), grid=(dim_bloque_x, dim_bloque_y,1) )\n",
        "    cuda.memcpy_dtoh( x_cpu, x_gpu )\n",
        "    cuda.memcpy_dtoh( y_cpu, y_gpu )\n",
        "    yield numpy.c_[x_cpu, y_cpu]\n",
        "\n",
        "def update(i):\n",
        "    data = next(stream)\n",
        "    scat.set_offsets(data)\n",
        "    return scat,\n",
        "\n",
        "fig, ax = plt.subplots()\n",
        "stream = move()\n",
        "x, y = next(stream).T\n",
        "scat = ax.scatter(x, y, c=colores, s=20, vmin=0, vmax=1)\n",
        "ax.axis([0, 40, 0, 40])\n",
        "\n",
        "anim = animation.FuncAnimation(fig, update, frames=np.arange(0, 1, 0.005), interval=100, blit=True, repeat=True)\n",
        "\n",
        "# Note: below is the part which makes it work on Colab\n",
        "rc('animation', html='jshtml')\n",
        "\n",
        "tiempo_bucle = datetime.now() - tiempo_bucle\n",
        "tiempo_total = datetime.now() - tiempo_total\n",
        "\n",
        "print(\"Tiempo Total: \", tiempo_en_ms( tiempo_total ), \"[ms]\" )\n",
        "print(\"Tiempo bucle: \", tiempo_en_ms( tiempo_bucle ), \"[ms]\" )\n",
        "\n",
        "anim\n"
      ],
      "execution_count": 90,
      "outputs": [
        {
          "output_type": "error",
          "ename": "ModuleNotFoundError",
          "evalue": "ignored",
          "traceback": [
            "\u001b[0;31m---------------------------------------------------------------------------\u001b[0m",
            "\u001b[0;31mModuleNotFoundError\u001b[0m                       Traceback (most recent call last)",
            "\u001b[0;32m<ipython-input-90-0a5bd0a21d94>\u001b[0m in \u001b[0;36m<module>\u001b[0;34m()\u001b[0m\n\u001b[1;32m      1\u001b[0m \u001b[0mget_ipython\u001b[0m\u001b[0;34m(\u001b[0m\u001b[0;34m)\u001b[0m\u001b[0;34m.\u001b[0m\u001b[0mmagic\u001b[0m\u001b[0;34m(\u001b[0m\u001b[0;34m'matplotlib inline'\u001b[0m\u001b[0;34m)\u001b[0m\u001b[0;34m\u001b[0m\u001b[0;34m\u001b[0m\u001b[0m\n\u001b[0;32m----> 2\u001b[0;31m \u001b[0;32mimport\u001b[0m \u001b[0mpycuda\u001b[0m\u001b[0;34m.\u001b[0m\u001b[0mdriver\u001b[0m \u001b[0;32mas\u001b[0m \u001b[0mcuda\u001b[0m\u001b[0;34m\u001b[0m\u001b[0;34m\u001b[0m\u001b[0m\n\u001b[0m\u001b[1;32m      3\u001b[0m \u001b[0;32mimport\u001b[0m \u001b[0mpycuda\u001b[0m\u001b[0;34m.\u001b[0m\u001b[0mautoinit\u001b[0m\u001b[0;34m\u001b[0m\u001b[0;34m\u001b[0m\u001b[0m\n\u001b[1;32m      4\u001b[0m \u001b[0;32mfrom\u001b[0m \u001b[0mpycuda\u001b[0m\u001b[0;34m.\u001b[0m\u001b[0mcompiler\u001b[0m \u001b[0;32mimport\u001b[0m \u001b[0mSourceModule\u001b[0m\u001b[0;34m\u001b[0m\u001b[0;34m\u001b[0m\u001b[0m\n\u001b[1;32m      5\u001b[0m \u001b[0;34m\u001b[0m\u001b[0m\n",
            "\u001b[0;31mModuleNotFoundError\u001b[0m: No module named 'pycuda'",
            "",
            "\u001b[0;31m---------------------------------------------------------------------------\u001b[0;32m\nNOTE: If your import is failing due to a missing package, you can\nmanually install dependencies using either !pip or !apt.\n\nTo view examples of installing some common dependencies, click the\n\"Open Examples\" button below.\n\u001b[0;31m---------------------------------------------------------------------------\u001b[0m\n"
          ]
        }
      ]
    }
  ]
}