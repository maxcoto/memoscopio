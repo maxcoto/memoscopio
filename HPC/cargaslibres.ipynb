{
  "nbformat": 4,
  "nbformat_minor": 0,
  "metadata": {
    "colab": {
      "name": "Colab animations.ipynb",
      "provenance": [],
      "collapsed_sections": [],
      "include_colab_link": true
    },
    "kernelspec": {
      "name": "python3",
      "display_name": "Python 3"
    }
  },
  "cells": [
    {
      "cell_type": "markdown",
      "metadata": {
        "id": "view-in-github",
        "colab_type": "text"
      },
      "source": [
        "<a href=\"https://colab.research.google.com/github/maxiperezc/memoscopio/blob/master/HPC/cargaslibres.ipynb\" target=\"_parent\"><img src=\"https://colab.research.google.com/assets/colab-badge.svg\" alt=\"Open In Colab\"/></a>"
      ]
    },
    {
      "cell_type": "markdown",
      "metadata": {
        "id": "DqCDR6mqeCqx"
      },
      "source": [
        "# Cargas Electricas Libres en 2D"
      ]
    },
    {
      "cell_type": "code",
      "metadata": {
        "id": "QLRBwgFqdr83"
      },
      "source": [
        "import numpy as np\n",
        "import matplotlib.pyplot as plt\n",
        "\n",
        "from matplotlib import animation, rc\n",
        "from IPython.display import HTML\n",
        "\n",
        "TWOPI = 2*np.pi\n",
        "\n",
        "# First set up the figure, the axis, and the plot element we want to animate\n",
        "t = np.arange(0.0, TWOPI, 0.001)\n",
        "s = np.sin(t)\n",
        "l = plt.plot(t, s)\n",
        "\n",
        "#plt.close() what?\n",
        "\n",
        "figure = plt.figure()\n",
        "axes = plt.axis([0,100,0,100])\n",
        "\n",
        "redDot, = plt.plot([0], [np.sin(0)], 'ro')\n",
        "\n",
        "#line, = axes.plot([], [], lw=2)\n",
        "\n",
        "# initialization function: plot the background of each frame\n",
        "#def init():\n",
        "#    line.set_data([], [])\n",
        "#    return (line,)\n",
        "\n",
        "# animation function. This is called sequentially  \n",
        "#def animate(i):\n",
        " #   x = np.linspace(0, 2, 1000)\n",
        " #   y = np.sin(2 * np.pi * (x - 0.01 * i))\n",
        " #   line.set_data(x, y)\n",
        " #   return (line,)\n",
        "\n",
        "def animate(i):\n",
        "  redDot.set_data(i, np.sin(i))\n",
        "  return redDot,\n",
        "  \n",
        "anim = animation.FuncAnimation(figure, animate, frames=np.arange(0.0, TWOPI, 0.1), interval=100, blit=True, repeat=True)\n",
        "\n",
        "# Note: below is the part which makes it work on Colab\n",
        "rc('animation', html='jshtml')\n",
        "anim\n",
        "  "
      ],
      "execution_count": null,
      "outputs": []
    }
  ]
}