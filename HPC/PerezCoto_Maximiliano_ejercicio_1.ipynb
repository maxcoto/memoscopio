{
  "nbformat": 4,
  "nbformat_minor": 0,
  "metadata": {
    "colab": {
      "name": "PerezCoto_Maximiliano_ejercicio_1.ipynb",
      "provenance": [],
      "collapsed_sections": [],
      "authorship_tag": "ABX9TyOH8iMao0vzkdjd2jHsioZM",
      "include_colab_link": true
    },
    "kernelspec": {
      "name": "python3",
      "display_name": "Python 3"
    },
    "accelerator": "GPU"
  },
  "cells": [
    {
      "cell_type": "markdown",
      "metadata": {
        "id": "view-in-github",
        "colab_type": "text"
      },
      "source": [
        "<a href=\"https://colab.research.google.com/github/maxiperezc/memoscopio/blob/master/HPC/PerezCoto_Maximiliano_ejercicio_1.ipynb\" target=\"_parent\"><img src=\"https://colab.research.google.com/assets/colab-badge.svg\" alt=\"Open In Colab\"/></a>"
      ]
    },
    {
      "cell_type": "markdown",
      "metadata": {
        "id": "4iQdCVVi0JZK"
      },
      "source": [
        "---\n",
        "# 1 Introducción\n",
        "\n",
        "El siguiente cuaderno realiza la norma de N de 3 dimensiones vectores en forma secuencial y parelela utilizando el procesador CPU y GPU respectivamente.\n",
        "\n",
        "$ {\\displaystyle {\\vec {V}} = (X_0, Y_0, Z_0)$\n",
        "<left>$...$</left>\n",
        "\n",
        "<left>${\\vec {V_n}} = (X_n, Y_n, Z_n)$</left>  \n",
        "\n",
        "<left>Luego,</left>\n",
        "\n",
        "<left>$||{\\vec {V_n}}|| = {\\sqrt{( X^2_n + Y^2_n + Z^2_n)}}  $</left>  \n",
        "\n",
        "El objetivo es calcular la fuerza correspondiente a N vectores para ser utilizado en ambientes de desarrollo gráfico o con fines de investigación científica y además de dejar una plantilla base parametrizable que permita la comparación entre algoritmos secuenciales y paralelos en 1 dimensión utilizando CUDA."
      ]
    },
    {
      "cell_type": "markdown",
      "metadata": {
        "id": "olsNOr8wjZKC"
      },
      "source": [
        "# Armado del Ambiente\n",
        "\n",
        "A fines de comparar como reacciona el tiempo de ejecución en función de la cantidad de elementos procesados deben pararse como parametros:\n",
        "1. Vectores: La cantidad de vectores de 3 dimensiones a procesar.\n",
        "2. Iteraciones: La cantidad de veces que se realiza el proceso, aplicando el multiplicador a los vectores.\n",
        "3. Multiplicador: Si se eligen 4 vectores y el multiplicador es 2, en cada iteración se incrementarán los vectores por 2.\n",
        "\n",
        "\n",
        "Por ejemplo, con los valores por defecto se realizarán 5 iteraciones en secuencial y paralelo procesando primero 4 vectores, luego 8, luego 16, luego 32 y finalmente 64, representando los tiempos finales en un gráfico 2D.\n",
        "\n",
        "## Instalar en el cuaderno el módulo CUDA de Python:"
      ]
    },
    {
      "cell_type": "code",
      "metadata": {
        "colab": {
          "base_uri": "https://localhost:8080/"
        },
        "id": "G_mqaLUmrhS_",
        "outputId": "91d7ade6-4417-49ec-9922-537200ae1d1c"
      },
      "source": [
        "!pip install pycuda"
      ],
      "execution_count": 1,
      "outputs": [
        {
          "output_type": "stream",
          "text": [
            "Collecting pycuda\n",
            "\u001b[?25l  Downloading https://files.pythonhosted.org/packages/46/61/47d3235a4c13eec5a5f03594ddb268f4858734e02980afbcd806e6242fa5/pycuda-2020.1.tar.gz (1.6MB)\n",
            "\u001b[K     |████████████████████████████████| 1.6MB 5.6MB/s \n",
            "\u001b[?25hCollecting pytools>=2011.2\n",
            "\u001b[?25l  Downloading https://files.pythonhosted.org/packages/b7/30/c9362a282ef89106768cba9d884f4b2e4f5dc6881d0c19b478d2a710b82b/pytools-2020.4.3.tar.gz (62kB)\n",
            "\u001b[K     |████████████████████████████████| 71kB 11.0MB/s \n",
            "\u001b[?25hRequirement already satisfied: decorator>=3.2.0 in /usr/local/lib/python3.6/dist-packages (from pycuda) (4.4.2)\n",
            "Collecting appdirs>=1.4.0\n",
            "  Downloading https://files.pythonhosted.org/packages/3b/00/2344469e2084fb287c2e0b57b72910309874c3245463acd6cf5e3db69324/appdirs-1.4.4-py2.py3-none-any.whl\n",
            "Collecting mako\n",
            "\u001b[?25l  Downloading https://files.pythonhosted.org/packages/a6/37/0e706200d22172eb8fa17d68a7ae22dec7631a0a92266634fb518a88a5b2/Mako-1.1.3-py2.py3-none-any.whl (75kB)\n",
            "\u001b[K     |████████████████████████████████| 81kB 10.9MB/s \n",
            "\u001b[?25hRequirement already satisfied: six>=1.8.0 in /usr/local/lib/python3.6/dist-packages (from pytools>=2011.2->pycuda) (1.15.0)\n",
            "Requirement already satisfied: numpy>=1.6.0 in /usr/local/lib/python3.6/dist-packages (from pytools>=2011.2->pycuda) (1.18.5)\n",
            "Requirement already satisfied: dataclasses>=0.7 in /usr/local/lib/python3.6/dist-packages (from pytools>=2011.2->pycuda) (0.7)\n",
            "Requirement already satisfied: MarkupSafe>=0.9.2 in /usr/local/lib/python3.6/dist-packages (from mako->pycuda) (1.1.1)\n",
            "Building wheels for collected packages: pycuda, pytools\n",
            "  Building wheel for pycuda (setup.py) ... \u001b[?25l\u001b[?25hdone\n",
            "  Created wheel for pycuda: filename=pycuda-2020.1-cp36-cp36m-linux_x86_64.whl size=621008 sha256=de085efcbfc886bb3aae0179f89bdb3e129560796715c3a5e8bdea1670b0c97c\n",
            "  Stored in directory: /root/.cache/pip/wheels/8f/78/d1/5bb826f81d9d490297a348d818ff3ee6dd6f2075b06dde6ea0\n",
            "  Building wheel for pytools (setup.py) ... \u001b[?25l\u001b[?25hdone\n",
            "  Created wheel for pytools: filename=pytools-2020.4.3-py2.py3-none-any.whl size=61374 sha256=c58c7124be70958957232ee00e8a566c5ea153826a8e47e6a46005aa634b3ec0\n",
            "  Stored in directory: /root/.cache/pip/wheels/af/c7/81/a22edb90b0b09a880468b2253bb1df8e9f503337ee15432c64\n",
            "Successfully built pycuda pytools\n",
            "Installing collected packages: appdirs, pytools, mako, pycuda\n",
            "Successfully installed appdirs-1.4.4 mako-1.1.3 pycuda-2020.1 pytools-2020.4.3\n"
          ],
          "name": "stdout"
        }
      ]
    },
    {
      "cell_type": "markdown",
      "metadata": {
        "id": "qzTlpkbK0crP"
      },
      "source": [
        "# 2 Desarrollo CPU vs GPU"
      ]
    },
    {
      "cell_type": "code",
      "metadata": {
        "id": "BTZWumLJ0Ehk",
        "colab": {
          "base_uri": "https://localhost:8080/",
          "height": 355
        },
        "outputId": "d64c481b-0e0b-449e-bb8b-fac800e6a489"
      },
      "source": [
        "# --------------------------------------------\n",
        "#@title 3.1 Parámetros de ejecución:\n",
        "#@title cantidad de vectores de 3 dimensiones { vertical-output: true }\n",
        "\n",
        "vectores = 4#@param {type: \"number\"}\n",
        "iteraciones = 5#@param {type: \"number\"}\n",
        "multiplicador = 2#@param {type: \"number\"}\n",
        "\n",
        "from datetime import datetime\n",
        "import numpy\n",
        "import matplotlib.pyplot as plt\n",
        "\n",
        "try:\n",
        "  import pycuda.driver as cuda\n",
        "  import pycuda.autoinit\n",
        "  from pycuda.compiler import SourceModule\n",
        "\n",
        "  if vectores < 1:\n",
        "    raise ValueError(\"Error: La cantidad de vectores debe ser al menos 1.\");\n",
        "  if multiplicador < 1:\n",
        "    raise ValueError(\"Error: El multiplicador de vectores debe ser al menos 1.\");\n",
        "  if iteraciones < 1:\n",
        "    raise ValueError(\"Error: La cantidad de itearaciones debe ser al menos 1.\");\n",
        "\n",
        "\n",
        "  # CPU - Defino la función kernel que ejecutará en GPU.\n",
        "  module = SourceModule(\"\"\"\n",
        "  __global__ void kernel_norm( int n, float *X, float *Y, float *Z, float *V )\n",
        "  {\n",
        "    int idx = threadIdx.x + blockIdx.x*blockDim.x;\n",
        "    if( idx < n )\n",
        "    {\n",
        "      V[idx] = sqrt(pow(X[idx], 2) + pow(Y[idx], 2) + pow(Z[idx], 2));\n",
        "    }\n",
        "  }\n",
        "  \"\"\")\n",
        "  # CPU - Genero la función kernel.\n",
        "  kernel = module.get_function(\"kernel_norm\")\n",
        "\n",
        "  # --------------------------------------------\n",
        "  # Definición de función que transforma el tiempo en  milisegundos \n",
        "  tiempo_en_ms = lambda dt:(dt.days * 24 * 60 * 60 + dt.seconds) * 1000 + dt.microseconds / 1000.0\n",
        "\n",
        "  tiempos = []\n",
        "  colores = []\n",
        "  cantidades = []\n",
        "  total_cpu = 0\n",
        "  total_gpu = 0\n",
        "\n",
        "  for itx in range(0, iteraciones):\n",
        "    # CPU - Defino la memoria de los vectores en CPU.\n",
        "    x_cpu = numpy.random.randn( vectores )\n",
        "    x_cpu = x_cpu.astype( numpy.float32() )\n",
        "    y_cpu = numpy.random.randn( vectores )\n",
        "    y_cpu = y_cpu.astype( numpy.float32() )\n",
        "    z_cpu = numpy.random.randn( vectores )\n",
        "    z_cpu = y_cpu.astype( numpy.float32() )\n",
        "    v_cpu = numpy.empty_like( x_cpu )\n",
        "    vr_cpu = numpy.empty_like( x_cpu )\n",
        "    \n",
        "    # CPU - reservo la memoria GPU.\n",
        "    x_gpu = cuda.mem_alloc( x_cpu.nbytes )\n",
        "    y_gpu = cuda.mem_alloc( y_cpu.nbytes )\n",
        "    z_gpu = cuda.mem_alloc( z_cpu.nbytes )\n",
        "    v_gpu = cuda.mem_alloc( v_cpu.nbytes )\n",
        "    # GPU - Copio la memoria al GPU.\n",
        "    cuda.memcpy_htod( x_gpu, x_cpu )\n",
        "    cuda.memcpy_htod( y_gpu, y_cpu )\n",
        "    cuda.memcpy_htod( z_gpu, z_cpu )\n",
        "    cuda.memcpy_htod( v_gpu, v_cpu )\n",
        "\n",
        "    # ejecuto el proceso y mido tiempo en CPU\n",
        "    tiempo_cpu = datetime.now()\n",
        "    for idx in range( 0, vectores ):\n",
        "      v_cpu[idx] = numpy.sqrt(pow(x_cpu[idx], 2) + pow(y_cpu[idx], 2) + pow(z_cpu[idx], 2))\n",
        "    tiempo_cpu = datetime.now() - tiempo_cpu\n",
        "\n",
        "    # Agrego el resultado de la iteracion para el render\n",
        "    cantidades.append(vectores)\n",
        "    colores.append('blue')\n",
        "    cpu_ms = tiempo_en_ms(tiempo_cpu)\n",
        "    total_cpu += cpu_ms\n",
        "    tiempos.append(cpu_ms)\n",
        "\n",
        "    # ejecuto el proceso y mido tiempo en GPU\n",
        "    tiempo_gpu = datetime.now()\n",
        "    dim_hilo = 256\n",
        "    dim_bloque = numpy.int( (vectores+dim_hilo-1) / dim_hilo )\n",
        "    kernel( numpy.int32(vectores), x_gpu, y_gpu, z_gpu, v_gpu, block=( dim_hilo, 1, 1 ),grid=(dim_bloque, 1,1) )\n",
        "    tiempo_gpu = datetime.now() - tiempo_gpu\n",
        "    # GPU - Copio el resultado desde la memoria GPU.\n",
        "    cuda.memcpy_dtoh( vr_cpu, v_gpu )\n",
        "\n",
        "    # Agrego el resultado de la iteracion para el render\n",
        "    cantidades.append(vectores)\n",
        "    colores.append('red')\n",
        "    gpu_ms = tiempo_en_ms(tiempo_gpu)\n",
        "    total_gpu += gpu_ms\n",
        "    tiempos.append(gpu_ms)\n",
        "\n",
        "    vectores *= multiplicador\n",
        "\n",
        "    # Hace lenta la ejecucion pero sirve para chequear que los algoritmos\n",
        "    # arrojan el mismo resultado\n",
        "    \"\"\"\n",
        "    if v_cpu.all() != vr_cpu.all():\n",
        "      print( \"V-CPU: \", v_cpu )\n",
        "      print( \"V-GPU: \", vr_cpu )\n",
        "      raise ValueError(\"Error: El cálculo en secuencial y paralelo arrojan resultados distintos\");\n",
        "    \"\"\"\n",
        "  \n",
        "  # --------------------------------------------\n",
        "\n",
        "  print(\"\\033[94m Tiempo Total CPU: \", total_cpu, \"[ms]\" )\n",
        "  print(\"\\033[91m Tiempo Total GPU: \", total_gpu, \"[ms]\" )\n",
        "\n",
        "  print(\"\\033[0m \\nEje X: cantidad de vectores\")\n",
        "  print(\"Eje Y: milisegundos\")\n",
        "\n",
        "  fig, ax = plt.subplots()\n",
        "  scat = ax.scatter(cantidades, tiempos, c=colores, s=20, vmin=0, vmax=1)\n",
        "\n",
        "\n",
        "except ModuleNotFoundError:\n",
        "  print(\"Error: debe cambiar el entorno a GPU e instalar CUDA en el paso anterior antes de continuar.\")\n",
        "except ValueError as VR:\n",
        "  print(VR)"
      ],
      "execution_count": 4,
      "outputs": [
        {
          "output_type": "stream",
          "text": [
            "\u001b[94m Tiempo Total CPU:  1.411 [ms]\n",
            "\u001b[91m Tiempo Total GPU:  0.246 [ms]\n",
            "\u001b[0m \n",
            "Eje X: cantidad de vectores\n",
            "Eje Y: milisegundos\n"
          ],
          "name": "stdout"
        },
        {
          "output_type": "display_data",
          "data": {
            "image/png": "[encoded data removed]",
            "text/plain": [
              "<Figure size 432x288 with 1 Axes>"
            ]
          },
          "metadata": {
            "tags": [],
            "needs_background": "light"
          }
        }
      ]
    },
    {
      "cell_type": "markdown",
      "metadata": {
        "id": "9LblY1351glK"
      },
      "source": [
        "---\n",
        "# 4 Tabla de pasos de ejecución del programa\n",
        "\n",
        " Procesador | Función | Detalle\n",
        "------------|---------|----------\n",
        "CPU      |  @param               | Lectura de la cantidad de vectores, multiplicador e iteraciones desde Colab\n",
        "CPU      |  import                | Importa los módulos para funcionar\n",
        "CPU      |  try-except            | Se valida la inclusion de los modulos de pycuda y que los parametros sean correctos.\n",
        "CPU      |  SourceModule()        | Define el código del kernel \n",
        "CPU      |  module.get_function() | Genera la función del kernel GPU\n",
        "CPU      |  tiempo_ms:labmda | Se define una función inline que calcula milisegundos\n",
        "CPU      |  for...iteraciones     | Realiza los procesos CPU vs GPU itx veces\n",
        "CPU      |  numpy.random.randn(vectores) | Inicializa los vectoes X, Y, Z y V.\n",
        "**GPU**  |  cuda.mem_alloc()      | Reserva la memoria en GPU.\n",
        "**GPU**  |  cuda.memcpy_htod()    | Copia las memorias desde el CPU al GPU.\n",
        "CPU      |  cpu - datetime.now()  | Toma el tiempo inicial en CPU.\n",
        "CPU      |  for...vectores        | Realiza la norma de los vectores $(X_0, Y_0, Z_0) ... (X_n, Y_n, Z_n) $ , guardando el resultado en $V_n$.\n",
        "CPU      |  cpu - datetime.now()  | Toma el tiempo final en CPU\n",
        "CPU      | cantidades, colores, tiempos | Se agregan datos a vectores para el plot de puntos azules de CPU\n",
        "CPU      |  gpu - datetime.now()  | Toma el tiempo inicial en GPU\n",
        "CPU      |  dim_tx/dim_bx         | Calcula las dimensiones.\n",
        "**GPU**  |  kernel()        | Realiza la norma de los vectores utilizando kernel()\n",
        "CPU      |  gpu - datetime.now()  | Toma el tiempo final en GPU\n",
        "CPU      |  cuda.memcpy_dtoh( )   | Copia el resultado desde GPU a CPU\n",
        "CPU      | cantidades, colores, tiempos | Se agregan datos a vectores para el plot de puntos rojos de GPU\n",
        "CPU      | if v_cpu != vr_cpu | Se verifica que los resultados obtenidos en ambas formas de ejecución coincidan.\n",
        "CPU      |  print()               | Informa los resultados.\n",
        "CPU      |  scatter()             | Dibuja un gráfico con los resultados de cantidad de vectores (X) por tiempo de ejecución (Y-ms) en GPU(Rojo) y CPU(Azul)"
      ]
    },
    {
      "cell_type": "markdown",
      "metadata": {
        "id": "vgkDKduq1kuO"
      },
      "source": [
        "---\n",
        "# 5 Conclusiones\n",
        "\n",
        "La finalización de la ejecución del algoritmo muestra un tiempo total de procesamiento tanto en CPU como en GPU, además de un gráfico de puntos que comparan la cantidad de vectores y tiempo de procesamiento según cada estrategia.\n",
        " \n",
        "Como puede apreciarse en los resultados graficados,  mientras mayor es la cantidad de vectores a los cuales quiere aplicarse el algoritmo, el tiempo de procesamiento en secuencial aumenta exponencialmente, mientras que en paralelo el incremento es muy poco en función de la cantidad de elementos.\n",
        "En conclusión, la ejecución paralela (en este caso) value la pena ya que disminuye el tiempo de ejecución de manera radical al incrementar la cantidad de datos a procesar.\n",
        "\n",
        "El resultado del ejercicio no es el algoritmo en sí sino mas bien una buena plantilla para permitir realizar ejecuciones secuenciales vs paralelas y estudiar la comparación entre ambas con incremento de datos y un resultado visual cuantitativo.\n",
        "\n",
        "### Pasos mas relevantes\n",
        "1. Reservar memoria en GPU (cuda.mem_alloc).\n",
        "2. Copiar datos en memoria GPU (cuda.memcpy_htod).\n",
        "3. Definir la función que va a ejecutar el Kernel.\n",
        "4. Calcular las dimensiones.\n",
        "5. Realizar el gráfico.\n"
      ]
    },
    {
      "cell_type": "markdown",
      "metadata": {
        "id": "aI92fmT71qHz"
      },
      "source": [
        "---\n",
        "\n",
        "# 6 Bibliografia\n",
        "\n",
        "[1] MARKDOWN SYNTAX Colab: [PDF](https://github.com/wvaliente/SOA_HPC/blob/main/Documentos/markdown-cheatsheet-online.pdf)\n",
        "\n",
        "[2] Introducción a Python: [Página Colab](https://github.com/wvaliente/SOA_HPC/blob/main/Documentos/Python_Basico.ipynb) \n",
        "\n",
        "[3] Documentación PyCUDA: [WEB](https://documen.tician.de/pycuda/index.html)\n",
        "\n",
        "[4] Repositorio de PyCUDA: [WEB](https://pypi.python.org/pypi/pycuda)\n",
        "\n",
        "\n"
      ]
    }
  ]
}