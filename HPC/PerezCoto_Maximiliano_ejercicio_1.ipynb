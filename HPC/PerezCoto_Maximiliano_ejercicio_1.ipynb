{
  "nbformat": 4,
  "nbformat_minor": 0,
  "metadata": {
    "colab": {
      "name": "PerezCoto_Maximiliano_ejercicio_1.ipynb",
      "provenance": [],
      "collapsed_sections": [],
      "authorship_tag": "ABX9TyObr9AiWbw8kUFui6+Z/Fxh",
      "include_colab_link": true
    },
    "kernelspec": {
      "name": "python3",
      "display_name": "Python 3"
    },
    "accelerator": "GPU"
  },
  "cells": [
    {
      "cell_type": "markdown",
      "metadata": {
        "id": "view-in-github",
        "colab_type": "text"
      },
      "source": [
        "<a href=\"https://colab.research.google.com/github/maxiperezc/memoscopio/blob/master/HPC/PerezCoto_Maximiliano_ejercicio_1.ipynb\" target=\"_parent\"><img src=\"https://colab.research.google.com/assets/colab-badge.svg\" alt=\"Open In Colab\"/></a>"
      ]
    },
    {
      "cell_type": "markdown",
      "metadata": {
        "id": "4iQdCVVi0JZK"
      },
      "source": [
        "---\n",
        "# 1 Introducción\n",
        "\n",
        "El siguiente cuaderno realiza la norma de N de 3 dimensiones vectores en forma secuencial,  utilizando el procesador CPU.\n",
        "\n",
        "<left>$V_0 = (X_0, Y_0, Z_0)$</left>  \n",
        "<left>$...$</left>\n",
        "\n",
        "<left>$V_n = (X_n, Y_n, Z_n)$</left>  \n",
        "\n",
        "<left>Luego,</left>\n",
        "\n",
        "<left>$||V_n|| = \\sqrt( X^2_n + Y^2_n + Z^2_n)  $</left>  \n",
        "\n",
        "El objetivo es calcular la fuerza correspondiente a N vectores para ser utilizado en ambientes de desarrollo gráfico o con fines de investigación científica."
      ]
    },
    {
      "cell_type": "markdown",
      "metadata": {
        "id": "qzTlpkbK0crP"
      },
      "source": [
        "# 2 Desarrollo"
      ]
    },
    {
      "cell_type": "code",
      "metadata": {
        "id": "BTZWumLJ0Ehk",
        "colab": {
          "base_uri": "https://localhost:8080/"
        },
        "outputId": "cf566742-bfee-42f0-f57e-cd7fe0886008"
      },
      "source": [
        "# --------------------------------------------\n",
        "#@title 3.1 Parámetro de ejecución: cantidad de vectores de 3 dimensiones { vertical-output: true }\n",
        "\n",
        "cantidad = 5#@param {type: \"number\"}\n",
        "\n",
        "from datetime import datetime\n",
        "import numpy\n",
        "\n",
        "try:\n",
        "  if cantidad < 1:\n",
        "    raise ValueError(\"Error: La cantidad de vectores debe ser al menos 1.\");\n",
        "\n",
        "# --------------------------------------------\n",
        "\n",
        "  tiempo_total = datetime.now()\n",
        "\n",
        "  # --------------------------------------------\n",
        "  # Definición de función que transforma el tiempo en  milisegundos \n",
        "  tiempo_en_ms = lambda dt:(dt.days * 24 * 60 * 60 + dt.seconds) * 1000 + dt.microseconds / 1000.0\n",
        "\n",
        "  # --------------------------------------------\n",
        "  # CPU - Defino la memoria de los vectores en cpu.\n",
        "  x_cpu = numpy.random.randn( cantidad )\n",
        "  x_cpu = x_cpu.astype( numpy.float32() )\n",
        "\n",
        "  y_cpu = numpy.random.randn( cantidad )\n",
        "  y_cpu = y_cpu.astype( numpy.float32() )\n",
        "\n",
        "  z_cpu = numpy.random.randn( cantidad )\n",
        "  z_cpu = y_cpu.astype( numpy.float32() )\n",
        "\n",
        "  v_cpu = numpy.empty_like( x_cpu )\n",
        "\n",
        "  tiempo_bucle = datetime.now()\n",
        "\n",
        "  for idx in range( 0, cantidad ):\n",
        "    v_cpu[idx] = numpy.sqrt(pow(x_cpu[idx], 2) + pow(y_cpu[idx], 2) + pow(z_cpu[idx], 2))\n",
        "\n",
        "  tiempo_bucle = datetime.now() - tiempo_bucle\n",
        "\n",
        "  # --------------------------------------------\n",
        "\n",
        "\n",
        "  # CPU - Informo el resultado.\n",
        "  print( \"------------------------------------\")\n",
        "  print( \"X: \" )\n",
        "  print( x_cpu )\n",
        "  print( \"------------------------------------\")\n",
        "  print( \"Y: \" )\n",
        "  print( y_cpu )\n",
        "  print( \"------------------------------------\")\n",
        "  print( \"Z: \" )\n",
        "  print( z_cpu )\n",
        "  print( \"------------------------------------\")\n",
        "  print( \"V: \" )\n",
        "  print( v_cpu )\n",
        "  print( \"------------------------------------\")\n",
        "  print( \"\\n\\n\")\n",
        "\n",
        "  tiempo_total = datetime.now() - tiempo_total\n",
        "\n",
        "  print(\"Tiempo Total: \", tiempo_en_ms( tiempo_total ), \"[ms]\" )\n",
        "  print(\"Tiempo bucle: \", tiempo_en_ms( tiempo_bucle ), \"[ms]\" )\n",
        "\n",
        "except ValueError as VR:\n",
        "  print(VR)\n",
        "except: \n",
        "  print(\"Error no atrapado...\")"
      ],
      "execution_count": 13,
      "outputs": [
        {
          "output_type": "stream",
          "text": [
            "------------------------------------\n",
            "X: \n",
            "[-1.6390595  -1.1043664   0.8207337  ... -0.0231653   0.78886664\n",
            "  1.5993896 ]\n",
            "------------------------------------\n",
            "Y: \n",
            "[-0.00521451 -1.4160372   0.12359434 ...  1.7020512   0.49831384\n",
            " -0.7463814 ]\n",
            "------------------------------------\n",
            "Z: \n",
            "[-0.00521451 -1.4160372   0.12359434 ...  1.7020512   0.49831384\n",
            " -0.7463814 ]\n",
            "------------------------------------\n",
            "V: \n",
            "[1.6390761 2.286908  0.8391394 ... 2.4071753 1.0578015 1.916303 ]\n",
            "------------------------------------\n",
            "\n",
            "\n",
            "\n",
            "Tiempo Total:  53.978 [ms]\n",
            "Tiempo bucle:  51.153 [ms]\n"
          ],
          "name": "stdout"
        }
      ]
    },
    {
      "cell_type": "markdown",
      "metadata": {
        "id": "zxbCnaZP0lWy"
      },
      "source": [
        "---\n",
        "#4 Tabla de pasos\n",
        "Tabla de pasos de la ejecución del programa:\n",
        "\n",
        " Procesador | Función | Detalle\n",
        "------------|---------|----------\n",
        "CPU      |  @param                | Lectura del tamaño de vectores desde Colab.\n",
        "CPU      |  import                | Importa los módulos para funcionar.\n",
        "CPU      |  datetime.now()        | Toma el tiempo inicial.\n",
        "CPU      |  numpy.random.randn( Cantidad ) | Inicializa los vectores A, B y R.\n",
        "CPU      |  for...                | Realiza la norma de los vectores $(X_0, Y_0, Z_0) ... (X_n, Y_n, Z_n) $ , guardando el resultado en $V_n$. \n",
        "CPU      |  datetime.now()        | Toma el tiempo final.\n",
        "CPU      |  print()               | Informa los resultados.\n",
        "\n"
      ]
    },
    {
      "cell_type": "markdown",
      "metadata": {
        "id": "jFAjGIES1MC4"
      },
      "source": [
        "---\n",
        "# GPU\n",
        "\n",
        "---\n",
        "# 2 Armado del ambiente\n",
        "Instala en el cuaderno el módulo CUDA de Python."
      ]
    },
    {
      "cell_type": "code",
      "metadata": {
        "colab": {
          "base_uri": "https://localhost:8080/"
        },
        "id": "bbevcu3HnT6V",
        "outputId": "e1fbcd50-608f-4316-dfc7-c6bfaac627d6"
      },
      "source": [
        "!pip install pycuda"
      ],
      "execution_count": 5,
      "outputs": [
        {
          "output_type": "stream",
          "text": [
            "Collecting pycuda\n",
            "\u001b[?25l  Downloading https://files.pythonhosted.org/packages/46/61/47d3235a4c13eec5a5f03594ddb268f4858734e02980afbcd806e6242fa5/pycuda-2020.1.tar.gz (1.6MB)\n",
            "\u001b[K     |████████████████████████████████| 1.6MB 20.1MB/s \n",
            "\u001b[?25hCollecting pytools>=2011.2\n",
            "\u001b[?25l  Downloading https://files.pythonhosted.org/packages/b7/30/c9362a282ef89106768cba9d884f4b2e4f5dc6881d0c19b478d2a710b82b/pytools-2020.4.3.tar.gz (62kB)\n",
            "\u001b[K     |████████████████████████████████| 71kB 6.8MB/s \n",
            "\u001b[?25hRequirement already satisfied: decorator>=3.2.0 in /usr/local/lib/python3.6/dist-packages (from pycuda) (4.4.2)\n",
            "Collecting appdirs>=1.4.0\n",
            "  Downloading https://files.pythonhosted.org/packages/3b/00/2344469e2084fb287c2e0b57b72910309874c3245463acd6cf5e3db69324/appdirs-1.4.4-py2.py3-none-any.whl\n",
            "Collecting mako\n",
            "\u001b[?25l  Downloading https://files.pythonhosted.org/packages/a6/37/0e706200d22172eb8fa17d68a7ae22dec7631a0a92266634fb518a88a5b2/Mako-1.1.3-py2.py3-none-any.whl (75kB)\n",
            "\u001b[K     |████████████████████████████████| 81kB 13.0MB/s \n",
            "\u001b[?25hRequirement already satisfied: six>=1.8.0 in /usr/local/lib/python3.6/dist-packages (from pytools>=2011.2->pycuda) (1.15.0)\n",
            "Requirement already satisfied: numpy>=1.6.0 in /usr/local/lib/python3.6/dist-packages (from pytools>=2011.2->pycuda) (1.18.5)\n",
            "Requirement already satisfied: dataclasses>=0.7 in /usr/local/lib/python3.6/dist-packages (from pytools>=2011.2->pycuda) (0.7)\n",
            "Requirement already satisfied: MarkupSafe>=0.9.2 in /usr/local/lib/python3.6/dist-packages (from mako->pycuda) (1.1.1)\n",
            "Building wheels for collected packages: pycuda, pytools\n",
            "  Building wheel for pycuda (setup.py) ... \u001b[?25l\u001b[?25hdone\n",
            "  Created wheel for pycuda: filename=pycuda-2020.1-cp36-cp36m-linux_x86_64.whl size=620899 sha256=8c1324d0f4f79026b87ffda44c6f3bf84e0f657038f6990c9de6291949a6ec94\n",
            "  Stored in directory: /root/.cache/pip/wheels/8f/78/d1/5bb826f81d9d490297a348d818ff3ee6dd6f2075b06dde6ea0\n",
            "  Building wheel for pytools (setup.py) ... \u001b[?25l\u001b[?25hdone\n",
            "  Created wheel for pytools: filename=pytools-2020.4.3-py2.py3-none-any.whl size=61374 sha256=a6efcde099aeeafde6e0448e794ad58fc27c37fd92abcce577ec800302cab201\n",
            "  Stored in directory: /root/.cache/pip/wheels/af/c7/81/a22edb90b0b09a880468b2253bb1df8e9f503337ee15432c64\n",
            "Successfully built pycuda pytools\n",
            "Installing collected packages: appdirs, pytools, mako, pycuda\n",
            "Successfully installed appdirs-1.4.4 mako-1.1.3 pycuda-2020.1 pytools-2020.4.3\n"
          ],
          "name": "stdout"
        }
      ]
    },
    {
      "cell_type": "markdown",
      "metadata": {
        "id": "uGD0XsbG1Vi0"
      },
      "source": [
        "# 3 Desarrollo GPU"
      ]
    },
    {
      "cell_type": "code",
      "metadata": {
        "id": "WEIyCICi1Yyo",
        "colab": {
          "base_uri": "https://localhost:8080/"
        },
        "outputId": "74a4a560-2e95-462d-b0c1-571b8c112bad"
      },
      "source": [
        "# --------------------------------------------\n",
        "#@title 3.1 Parámetros de ejecución: cantidad de vectores { vertical-output: true }\n",
        "\n",
        "cantidad =   5000#@param {type: \"number\"}\n",
        "# --------------------------------------------\n",
        "\n",
        "from datetime import datetime\n",
        "import numpy\n",
        "\n",
        "try:\n",
        "  import pycuda.driver as cuda\n",
        "  import pycuda.autoinit\n",
        "  from pycuda.compiler import SourceModule\n",
        "except:\n",
        "  print(\"Error: debe cambiar el entorno a GPU e instalar CUDA en el paso anterior antes de continuar.\")\n",
        "\n",
        "try:\n",
        "  if cantidad < 1:\n",
        "    raise ValueError(\"Error: La cantidad de vectores debe ser al menos 1.\");\n",
        "\n",
        "  tiempo_total = datetime.now()\n",
        "  # --------------------------------------------\n",
        "  # Definición de función que transforma el tiempo en  milisegundos \n",
        "  tiempo_en_ms = lambda dt:(dt.days * 24 * 60 * 60 + dt.seconds) * 1000 + dt.microseconds / 1000.0\n",
        "\n",
        "  # CPU - Defino la memoria de los vectores en cpu.\n",
        "  x_cpu = numpy.random.randn( cantidad )\n",
        "  x_cpu = x_cpu.astype( numpy.float32() )\n",
        "\n",
        "  y_cpu = numpy.random.randn( cantidad )\n",
        "  y_cpu = y_cpu.astype( numpy.float32() )\n",
        "\n",
        "  z_cpu = numpy.random.randn( cantidad )\n",
        "  z_cpu = y_cpu.astype( numpy.float32() )\n",
        "\n",
        "  v_cpu = numpy.empty_like( x_cpu )\n",
        "\n",
        "  # CPU - reservo la memoria GPU.\n",
        "  x_gpu = cuda.mem_alloc( x_cpu.nbytes )\n",
        "  y_gpu = cuda.mem_alloc( y_cpu.nbytes )\n",
        "  z_gpu = cuda.mem_alloc( z_cpu.nbytes )\n",
        "  v_gpu = cuda.mem_alloc( v_cpu.nbytes )\n",
        "\n",
        "  # GPU - Copio la memoria al GPU.\n",
        "  cuda.memcpy_htod( x_gpu, x_cpu )\n",
        "  cuda.memcpy_htod( y_gpu, y_cpu )\n",
        "  cuda.memcpy_htod( z_gpu, z_cpu )\n",
        "  cuda.memcpy_htod( v_gpu, v_cpu )\n",
        "\n",
        "  # CPU - Defino la función kernel que ejecutará en GPU.\n",
        "  module = SourceModule(\"\"\"\n",
        "  __global__ void kernel_norm( int n, float *X, float *Y, float *Z, float *V )\n",
        "  {\n",
        "    int idx = threadIdx.x + blockIdx.x*blockDim.x;\n",
        "    if( idx < n )\n",
        "    {\n",
        "      V[idx] = sqrt(pow(X[idx], 2) + pow(Y[idx], 2) + pow(Z[idx], 2));\n",
        "    }\n",
        "  }\n",
        "  \"\"\")\n",
        "  # CPU - Genero la función kernel.\n",
        "  kernel = module.get_function(\"kernel_norm\")\n",
        "\n",
        "  tiempo_gpu = datetime.now()\n",
        "\n",
        "  dim_hilo = 256\n",
        "  dim_bloque = numpy.int( (cantidad+dim_hilo-1) / dim_hilo )\n",
        "  print( \"Thread x: \", dim_hilo, \", Bloque x:\", dim_bloque )\n",
        "  kernel( numpy.int32(cantidad), x_gpu, y_gpu, z_gpu, v_gpu, block=( dim_hilo, 1, 1 ),grid=(dim_bloque, 1,1) )\n",
        "\n",
        "  tiempo_gpu = datetime.now() - tiempo_gpu\n",
        "\n",
        "  # GPU - Copio el resultado desde la memoria GPU.\n",
        "  cuda.memcpy_dtoh( v_cpu, v_gpu )\n",
        "\n",
        "  # CPU - Informo el resutlado.\n",
        "  print( \"------------------------------------\")\n",
        "  print( \"X: \" )\n",
        "  print( x_cpu )\n",
        "  print( \"------------------------------------\")\n",
        "  print( \"Y: \" )\n",
        "  print( y_cpu )\n",
        "  print( \"------------------------------------\")\n",
        "  print( \"Z: \" )\n",
        "  print( z_cpu )\n",
        "  print( \"------------------------------------\")\n",
        "  print( \"V: \" )\n",
        "  print( v_cpu )\n",
        "  print( \"------------------------------------\")\n",
        "  print( \"\\n\\n\")\n",
        "\n",
        "  tiempo_total = datetime.now() - tiempo_total\n",
        "\n",
        "  print( \"Cantidad de elementos: \", cantidad )\n",
        "  print( \"Thread x: \", dim_hilo, \", Bloque x:\", dim_bloque )\n",
        "  print(\"Tiempo CPU: \", tiempo_en_ms( tiempo_total ), \"[ms]\" )\n",
        "  print(\"Tiempo GPU: \", tiempo_en_ms( tiempo_gpu   ), \"[ms]\" )\n",
        "\n",
        "except ValueError as VR:\n",
        "  print(VR)\n",
        "except: \n",
        "  print(\"Error no atrapado...\")"
      ],
      "execution_count": 12,
      "outputs": [
        {
          "output_type": "stream",
          "text": [
            "Thread x:  256 , Bloque x: 20\n",
            "------------------------------------\n",
            "X: \n",
            "[ 1.3746057  -0.01878837 -1.0449567  ...  0.4825686  -0.37084395\n",
            " -0.92687875]\n",
            "------------------------------------\n",
            "Y: \n",
            "[ 0.61512613  1.1581683   0.03266733 ...  1.5751969   1.5738485\n",
            " -1.8131617 ]\n",
            "------------------------------------\n",
            "Z: \n",
            "[ 0.61512613  1.1581683   0.03266733 ...  1.5751969   1.5738485\n",
            " -1.8131617 ]\n",
            "------------------------------------\n",
            "V: \n",
            "[1.6267456 1.6380051 1.0459775 ... 2.2793338 2.2564404 2.7265756]\n",
            "------------------------------------\n",
            "\n",
            "\n",
            "\n",
            "Cantidad de elementos:  5000\n",
            "Thread x:  256 , Bloque x: 20\n",
            "Tiempo CPU:  4.102 [ms]\n",
            "Tiempo GPU:  0.457 [ms]\n"
          ],
          "name": "stdout"
        }
      ]
    },
    {
      "cell_type": "markdown",
      "metadata": {
        "id": "9LblY1351glK"
      },
      "source": [
        "---\n",
        "# 4 Tabla de pasos de ejecución del programa\n",
        "\n",
        "\n",
        " Procesador | Funciòn | Detalle\n",
        "------------|---------|----------\n",
        "CPU      |  @param                | Lectura del tamaño de vectores desde Colab.\n",
        "CPU      |  import                | Importa los módulos para funcionar.\n",
        "CPU      |  datetime.now()        | Toma el tiempo actual.\n",
        "CPU      |  numpy.random.randn( Cantidad ) | Inicializa los vectoes A, B y R.\n",
        "**GPU**  |  cuda.mem_alloc()      | Reserva la memoria en GPU.\n",
        "**GPU**  |  cuda.memcpy_htod()    | Copia las memorias desde el CPU al GPU.\n",
        "CPU      |  SourceModule()        | Define el código del kernel \n",
        "CPU      |  module.get_function() | Genera la función del kernel GPU\n",
        "CPU      |  dim_tx/dim_bx         | Calcula las dimensiones.\n",
        "**GPU**  |  kernel()              | Ejecuta el kernel en GPU\n",
        "CPU      |  cuda.memcpy_dtoh( )   | Copia el resultado desde GPU memoria A a CPU memoria R.\n",
        "CPU      |  print()               | Informo los resultados.\n",
        "\n"
      ]
    },
    {
      "cell_type": "markdown",
      "metadata": {
        "id": "vgkDKduq1kuO"
      },
      "source": [
        "---\n",
        "# 5 Conclusiones\n",
        "\n",
        "Si bien el ejercicio realizado no presenta una gran complejidad, creo que fue necesario realizar algo simple para familiarizarme con el lenguaje de Python y como es el funcionamiento de los cuadernos de Colab; tanto para la declaración de funciones, como de variables y excepciones. Tambien me sirvio como puntapie para aprender sobre las distintas estructuras y funciones que ofrece Numpy[6]\n",
        "\n",
        "En cuanto a los resultado, si bien el calculo realizado no requiere de mucho calculo por parte de la CPU, al comparar los valores entre la ejecición en serie y la ejecución en paralelo se ve una \"ENORME\" diferencia.\n",
        "\n",
        "En promedio, con la ejecución en serie obtuve un resultado de 63.221 [ms] (tamando 10 ejecuciones con 10000 objetos). Por otra parte, con la ejecución en paralelo, el calculo de las diferentes energias se resolvió en un promedio de 0.089 [ms].\n",
        "\n",
        "### Pasos mas relevantes\n",
        "\n",
        "1- Reservar memoria en GPU (cuda.mem_alloc).\n",
        "\n",
        "2- Copiar datos en memoria GPU (cuda.memcpy_htod).\n",
        "\n",
        "3- Definir la función que va a ejecutar el Kernel.\n",
        "\n",
        "4- Calcular las dimensiones.\n"
      ]
    },
    {
      "cell_type": "markdown",
      "metadata": {
        "id": "aI92fmT71qHz"
      },
      "source": [
        "---\n",
        "\n",
        "# 6 Bibliografia\n",
        "\n",
        "[1] MARKDOWN SYNTAX Colab: [PDF](https://github.com/wvaliente/SOA_HPC/blob/main/Documentos/markdown-cheatsheet-online.pdf)\n",
        "\n",
        "[2] Introducción a Python: [Página Colab](https://github.com/wvaliente/SOA_HPC/blob/main/Documentos/Python_Basico.ipynb) \n",
        "\n",
        "[3] Función Axpy de biblioteca BLAS: [Referencia](https://software.intel.com/content/www/us/en/develop/documentation/mkl-developer-reference-c/top/blas-and-sparse-blas-routines/blas-routines/blas-level-1-routines-and-functions/cblas-axpy.html)\n",
        "\n",
        "[4] Biblioteca BLAS: [Referencia](http://www.netlib.org/blas/)\n",
        "\n",
        "[5] Documentación PyCUDA: [WEB](https://documen.tician.de/pycuda/index.html)\n",
        "\n",
        "[6] Repositorio de PyCUDA: [WEB](https://pypi.python.org/pypi/pycuda)\n",
        "\n",
        "\n"
      ]
    }
  ]
}