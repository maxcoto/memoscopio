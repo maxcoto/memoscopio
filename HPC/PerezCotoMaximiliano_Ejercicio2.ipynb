{
  "nbformat": 4,
  "nbformat_minor": 0,
  "metadata": {
    "colab": {
      "name": "PerezCotoMaximiliano_Ejercicio2.ipynb",
      "provenance": [],
      "authorship_tag": "ABX9TyO6JD86/bU5oqsKhsrUx/q2",
      "include_colab_link": true
    },
    "kernelspec": {
      "name": "python3",
      "display_name": "Python 3"
    }
  },
  "cells": [
    {
      "cell_type": "markdown",
      "metadata": {
        "id": "view-in-github",
        "colab_type": "text"
      },
      "source": [
        "<a href=\"https://colab.research.google.com/github/maxiperezc/memoscopio/blob/master/HPC/PerezCotoMaximiliano_Ejercicio2.ipynb\" target=\"_parent\"><img src=\"https://colab.research.google.com/assets/colab-badge.svg\" alt=\"Open In Colab\"/></a>"
      ]
    },
    {
      "cell_type": "markdown",
      "metadata": {
        "id": "8uWtVdN02m3g"
      },
      "source": [
        "# 1 Introducción\n",
        "\n",
        "El siguiente ejemplo modifica el color de una imagen parametrizada, a su negativo correspondiente. El cálculo del negativo se realiza convirtiendo los 3 canales RGB, que representan a los colores R (*rojo*)-G(*verde*)-B(*azul*), de cada pixel siguiendo la ecuación:\n",
        "\n",
        "<left>$ PIXEL=[255-R, 255-G, 255-B]$</left>\n",
        "\n",
        "El objetivo es obtener el negativo de la imagen."
      ]
    },
    {
      "cell_type": "markdown",
      "metadata": {
        "id": "aaGcAeyO2vu7"
      },
      "source": [
        "---\n",
        "# 2 Armado del ambiente\n",
        "Toma la dirección web de una imagen con acceso público en internet, la deja disponible al contexto de ejecución del cuaderno Colab."
      ]
    },
    {
      "cell_type": "code",
      "metadata": {
        "id": "JywR1Lby2w-U"
      },
      "source": [
        "#@title # 2.1 Parámetros de ejecución\n",
        "#@markdown ---\n",
        "#@markdown ### Especifique la URL de la imagen:\n",
        "url_imagen = \"https://rankingapi.herokuapp.com/car.jpg\" #@param {type:\"string\"}\n",
        "\n",
        "#@markdown ---\n",
        "# Leo la imagen desde internet.\n",
        "#!wget https://github.com/wvaliente/SOA_HPC/blob/main/unlam.jpg?raw=true -O imagen.jpg\n",
        "\n",
        "# TODO: Mejorar informaciòn y resutlado de ejecución. \n",
        "!wget {url_imagen} -O imagen.jpg\n"
      ],
      "execution_count": null,
      "outputs": []
    },
    {
      "cell_type": "markdown",
      "metadata": {
        "id": "1hxjdbIx29oV"
      },
      "source": [
        "# 3 Desarrollo"
      ]
    },
    {
      "cell_type": "code",
      "metadata": {
        "id": "Q4CCgzRA2bYx"
      },
      "source": [
        " %matplotlib inline\n",
        "from datetime import datetime\n",
        "\n",
        "tiempo_total = datetime.now()\n",
        "\n",
        "import  matplotlib.pyplot as plt\n",
        "import numpy\n",
        "from PIL import Image \n",
        "\n",
        "# --------------------------------------------\n",
        "# Definición de función que transforma el tiempo en  milisegundos \n",
        "tiempo_en_ms = lambda dt:(dt.days * 24 * 60 * 60 + dt.seconds) * 1000 + dt.microseconds / 1000.0\n",
        "# --------------------------------------------\n",
        "\n",
        "\n",
        "img_nombre = 'imagen.jpg'\n",
        "image = Image.open( img_nombre ) \n",
        "  \n",
        "# Optengo las proporsiones de la imagen. \n",
        "img_alto, img_ancho = image.size \n",
        "\n",
        "# Convierto la imagen comprimida en JPEG/PNG a array.\n",
        "img_pic_cpu = numpy.asarray(image)\n",
        "\n",
        "# Genero el array resultado (3 pixeles usa RGB * (el tamaño del array)).\n",
        "img_picR_cpu = numpy.empty_like( img_pic_cpu)\n",
        "\n",
        "# Muestro los atributos de la imagen y como se ve antes del seudo filtro.\n",
        "print(\"Imagen del filtro: \" + img_nombre + \" -\" + image.mode + \"- [\" + str(img_ancho) + \", \" + str(img_alto ) + \"]\" )  \n",
        "\n",
        "plt.figure()\n",
        "imgplot=plt.imshow( img_pic_cpu )\n",
        "\n",
        "tiempo_img = datetime.now()\n",
        "\n",
        "# Convierto la imagen a escala de grises\n",
        "for y  in range( 0, img_alto ):\n",
        "  for x in range( 0, img_ancho ):\n",
        "    pixel_R, pixel_G, pixel_B = img_pic_cpu[x][y]\n",
        "    img_picR_cpu[x][y] = [255-pixel_R, 255-pixel_G, 255-pixel_B]\n",
        "\n",
        "tiempo_img = datetime.now() - tiempo_img\n",
        "\n",
        "# Muestro la imagen luego de aplicarle el filtro.\n",
        "plt.figure()\n",
        "imgplot = plt.imshow( img_picR_cpu )\n",
        "\n",
        "tiempo_total = datetime.now() - tiempo_total\n",
        "\n",
        "print( \"Tiempo de conversión de imagen:\", tiempo_en_ms( tiempo_img   ), \"[ms]\" )\n",
        "print( \"Tiempo Total:\",                   tiempo_en_ms( tiempo_total ), \"[ms]\" )"
      ],
      "execution_count": null,
      "outputs": []
    },
    {
      "cell_type": "markdown",
      "metadata": {
        "id": "P2Cy6odI3Et_"
      },
      "source": [
        "---\n",
        "# 4 Tabla de pasos de ejecución del programa\n",
        "\n",
        "\n",
        " Procesador | Función | Detalle\n",
        "------------|---------|----------\n",
        "CPU      |  @param                | Lectura de la dirección URL de la imagen (jpg) a procesar.\n",
        "CPU      |  import                | Importa los módulos para funcionar.\n",
        "CPU      |  datetime.now()        | Toma el tiempo actual.\n",
        "CPU      |  Image.open()          | Abre el archivo de la imagen.\n",
        "CPU      |  numpy.asarray(imagen) | Convierte el formato comprimido JPG a RAW.\n",
        "CPU      |  numpy.empty_like(()   | Genera el array destino, que tendrá a la imagen resultado. \n",
        "CPU      |  print()               | Informa los atributos de la imagen.\n",
        "CPU      |  plt.imshow            | Muestra la imagen original.\n",
        "CPU      |  for...for..           | Convierte la imagen en blanco y negro.\n",
        "CPU      |  plt.imshow            | Muestra la imagen resultado.\n",
        "\n"
      ]
    },
    {
      "cell_type": "markdown",
      "metadata": {
        "id": "Q7IurkrD3FxR"
      },
      "source": [
        "---\n",
        "# 5 Conclusiones\n",
        "\n",
        "Las conclusiones son explicadas en clase..."
      ]
    },
    {
      "cell_type": "markdown",
      "metadata": {
        "id": "srBG0jBe3H5W"
      },
      "source": [
        "---\n",
        "# 6 Bibliografía\n",
        "\n",
        "\n",
        "[1] MARKDOWN SYNTAX Colab: [PDF](https://github.com/wvaliente/SOA_HPC/blob/main/Documentos/markdown-cheatsheet-online.pdf)\n",
        "\n",
        "[2] Introducción a Python: [Página Colab](https://github.com/wvaliente/SOA_HPC/blob/main/Documentos/Python_Basico.ipynb) \n",
        "\n",
        "[3] Tutorial Point Colab: [PDF](https://github.com/wvaliente/SOA_HPC/blob/main/Documentos/markdown-cheatsheet-online.pdf)\n",
        "\n",
        "[4] 2009, SINTESIS DIGITAL DE COLOR UTILIZANDO TONOS DE GRIS, ING. JESÚS GUSTAVO FLORES ERAÑA: [PDF](https://ninive.uaslp.mx/xmlui/bitstream/handle/i/2264/MCA1SDC00901.pdf?sequence=1&isAllowed=y)\n",
        "\n"
      ]
    },
    {
      "cell_type": "markdown",
      "metadata": {
        "id": "gq2IncIK3Kmu"
      },
      "source": [
        "--- \n",
        "\n",
        "# GPU"
      ]
    },
    {
      "cell_type": "markdown",
      "metadata": {
        "id": "hgyvAodW3TMZ"
      },
      "source": [
        "---\n",
        "## 2.2 Instala en el cuaderno el módulo CUDA de Python."
      ]
    },
    {
      "cell_type": "code",
      "metadata": {
        "id": "5C4n-8TP3U7e"
      },
      "source": [
        "!pip install pycuda"
      ],
      "execution_count": null,
      "outputs": []
    },
    {
      "cell_type": "markdown",
      "metadata": {
        "id": "DZeFY5gD3V3g"
      },
      "source": [
        "# 3 Desarrollo"
      ]
    },
    {
      "cell_type": "code",
      "metadata": {
        "id": "x1xRO9Xd3YhI"
      },
      "source": [
        "%matplotlib inline\n",
        "from datetime import datetime\n",
        "tiempo_total = datetime.now()\n",
        "\n",
        "import matplotlib.pyplot as plt\n",
        "import numpy\n",
        "from PIL import Image \n",
        "import pycuda.driver as cuda\n",
        "import pycuda.autoinit\n",
        "from pycuda.compiler import SourceModule\n",
        "\n",
        "# --------------------------------------------\n",
        "# Definición de función que transforma el tiempo en  milisegundos \n",
        "tiempo_en_ms = lambda dt:(dt.days * 24 * 60 * 60 + dt.seconds) * 1000 + dt.microseconds / 1000.0\n",
        "# --------------------------------------------\n",
        "\n",
        "img_nombre = 'imagen.jpg'\n",
        "image = Image.open( img_nombre ) \n",
        "  \n",
        "# summarize some details about the image \n",
        "img_alto, img_ancho = image.size \n",
        "\n",
        "# Convierto la imagen comprimida en JPEG/PNG a array\n",
        "img_O_cpu = numpy.asarray(image)\n",
        "img_R_cpu = numpy.empty_like( img_O_cpu)\n",
        "\n",
        "# Reservo los 2 vectores en GPU(3 pixeles usa RGB * (el tamaño del array))\n",
        "img_O_gpu = cuda.mem_alloc( img_O_cpu.nbytes )\n",
        "img_R_gpu = cuda.mem_alloc( img_R_cpu.nbytes )\n",
        "\n",
        "# GPU - Copio la memoria al GPU.\n",
        "cuda.memcpy_htod( img_O_gpu, img_O_cpu )\n",
        "cuda.memcpy_htod( img_R_gpu, img_R_cpu )\n",
        "\n",
        "# CPU - Defino la función kernel que ejecutará en GPU.\n",
        "module = SourceModule(\"\"\"\n",
        "__global__ void kernel_img( int ancho, int alto, char *img_O, char *img_R )\n",
        "{\n",
        "  // Calculo las coordenadas del Thread en dos dimensiones.\n",
        "  int idx = threadIdx.x + blockIdx.x*blockDim.x;\n",
        "  int idy = threadIdx.y + blockIdx.y*blockDim.y;\n",
        "  float newR = 0.0;\n",
        "  float newG = 0.0;\n",
        "  float newB = 0.0;\n",
        "  int index = 0;\n",
        "\n",
        "  // Verifico que los Thread, esten dentro de las dimensiones de la imagen.\n",
        "  if( idx < ancho && idy < alto )\n",
        "  {\n",
        "    index = (idx+(idy*ancho))*3;\n",
        "    // Calculo el color gris para el pixel a partir de los componentes.\n",
        "    newR = 255 - (float)img_O[index];     // Componente Rojo del pixel.\n",
        "    newG = 255 - (float)img_O[index+1];   // Componente Verde del pixel.\n",
        "    newB = 255 - (float)img_O[index+2];   // Componente Azul del pixel.\n",
        "    // Escribo el color del pixel.\n",
        "    img_R[index]   = (char) newR;\n",
        "    img_R[index+1] = (char) newG;\n",
        "    img_R[index+2] = (char) newB;\n",
        "  }\n",
        "}\n",
        "\"\"\") \n",
        "\n",
        "# Muestro los atributos de la imagen y como se ve antes del seudo filtro.\n",
        "print(\"Imagen del filtro: \" + img_nombre + \" -\" + image.mode + \"- [\" + str(img_ancho) + \", \" + str(img_alto ) + \"]\" )  \n",
        "\n",
        "# CPU - Genero la función kernel.\n",
        "kernel = module.get_function(\"kernel_img\")\n",
        "\n",
        "tiempo_img = datetime.now()\n",
        "\n",
        "dim_hilo_x = 16\n",
        "dim_bloque_x = numpy.int( (img_ancho+dim_hilo_x-1) / dim_hilo_x )\n",
        "\n",
        "dim_hilo_y = 19\n",
        "dim_bloque_y = numpy.int( (img_alto+dim_hilo_y-1) / dim_hilo_y )\n",
        "\n",
        "print( \"Thread: [\", dim_hilo_x, \",\", dim_hilo_y, \" ], Bloque : [\", dim_bloque_x, \",\", dim_bloque_y, \"]\" )\n",
        "print( \"Total de Thread: [\", dim_hilo_x*dim_bloque_x, \",\", dim_hilo_y*dim_bloque_y, \" ]\", \" = \", dim_hilo_x*dim_bloque_x*dim_hilo_y*dim_bloque_y )\n",
        "\n",
        "tiempo_img = datetime.now()\n",
        "\n",
        "kernel( numpy.int32(img_ancho), numpy.int32(img_alto), img_O_gpu, img_R_gpu, block=( dim_hilo_x, dim_hilo_y, 1 ), grid=(dim_bloque_x, dim_bloque_y,1) )\n",
        "\n",
        "tiempo_img = datetime.now() - tiempo_img\n",
        "\n",
        "# GPU - Copio el resultado desde la memoria GPU.\n",
        "cuda.memcpy_dtoh( img_R_cpu, img_R_gpu )\n",
        "\n",
        "# Muestro la imagen Original el filtro.\n",
        "plt.figure()\n",
        "imgplot=plt.imshow( img_O_cpu )\n",
        "\n",
        "# Muestro la imagen luego de aplicarle el filtro.\n",
        "plt.figure()\n",
        "imgplot=plt.imshow( img_R_cpu )\n",
        "\n",
        "tiempo_total = datetime.now() - tiempo_total\n",
        "\n",
        "print(\"Tiempo TOTAL: \", tiempo_en_ms( tiempo_total ), \"[ms]\" )\n",
        "print(\"Tiempo GPU  : \", tiempo_en_ms( tiempo_img ), \"[ms]\" )\n"
      ],
      "execution_count": null,
      "outputs": []
    },
    {
      "cell_type": "markdown",
      "metadata": {
        "id": "dfbPu7Qc3cNg"
      },
      "source": [
        "---\n",
        "# 4 Tabla de pasos\n",
        "\n",
        "\n",
        " Procesador | Funciòn | Detalle\n",
        "------------|---------|----------\n",
        "CPU      |  wget url_imagen       | Lectura de la direcciòn URL de la imagen (jpg) a procesar.\n",
        "CPU      | pip install pycuda    | Instala en el cuaderno los driver de CUDA para Python.\n",
        "CPU      |  matplotlib inline    | Macro de Colab para mostrar imagenes.\n",
        "CPU      |  import                | Importa los módulos para funcionar.\n",
        "CPU      |  datetime.now()        | Toma el tiempo actual.\n",
        "CPU      |  Image.open()          | Abre el archivo de la imagen.\n",
        "CPU      |  numpy.asarray(imagen) | Convierte el formato comprimido JPG a RAW.\n",
        "CPU      |  numpy.empty_like(()   | Genera el array destino, que tendrá a la imagen resultado. \n",
        "**GPU**  |  cuda.mem_alloc()      | Reserva la memoria para las imagenes en GPU.\n",
        "**GPU**  |  cuda.memcpy_htod()    | Copio los valores en crudo de las imagenes al GPU.\n",
        "CPU      |  SourceModule()        | Posee el còdigo del kernel.\n",
        "CPU      |  module.get_function() | convierte el texto del kernel en funcion de Python.\n",
        "CPU      |  dim_hilo_x, dim_hilo_y| Calcula las dimensiones para la ejecuciòn de 2D.\n",
        "**GPU**  |  kernel()              | Ejecuta el kernel en GPU, enviando los parametros.\n",
        "CPU      |  print()               | Informa los atributos de la imagen.\n",
        "CPU      | cuda.memcpy_dtoh()     | Copia desde la memoria GPU al CPU.\n",
        "CPU      |  plt.imshow            | Muestra la imagen original.\n",
        "CPU      |  plt.imshow            | Muestra la imagen resultado.\n",
        "\n"
      ]
    },
    {
      "cell_type": "markdown",
      "metadata": {
        "id": "M4C1h4CV3dNR"
      },
      "source": [
        "---\n",
        "# 5 Conclusiones\n",
        "\n",
        "Las conclusiones son explicadas en clase..."
      ]
    },
    {
      "cell_type": "markdown",
      "metadata": {
        "id": "Ipb4laep3hAI"
      },
      "source": [
        "---\n",
        "# 6 Bibliografía\n",
        "\n",
        "[1] MARKDOWN SYNTAX Colab: [PDF](https://github.com/wvaliente/SOA_HPC/blob/main/Documentos/markdown-cheatsheet-online.pdf)\n",
        "\n",
        "[2] Introducción a Python: [Página Colab](https://github.com/wvaliente/SOA_HPC/blob/main/Documentos/Python_Basico.ipynb) \n",
        "\n",
        "[3] Tutorial Point Colab: [PDF](https://github.com/wvaliente/SOA_HPC/blob/main/Documentos/markdown-cheatsheet-online.pdf)\n",
        "\n",
        "[4] 2009, SINTESIS DIGITAL DE COLOR UTILIZANDO TONOS DE GRIS, ING. JESÚS GUSTAVO FLORES ERAÑA : [PDF](https://ninive.uaslp.mx/xmlui/bitstream/handle/i/2264/MCA1SDC00901.pdf?sequence=1&isAllowed=y)\n"
      ]
    }
  ]
}