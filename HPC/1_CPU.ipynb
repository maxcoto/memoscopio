{
  "nbformat": 4,
  "nbformat_minor": 0,
  "metadata": {
    "colab": {
      "name": "Prueba 1 - Vectores - CPU.ipynb",
      "provenance": [],
      "private_outputs": true,
      "collapsed_sections": [
        "B4IHd-IqdvT1"
      ]
    },
    "kernelspec": {
      "display_name": "Python 3",
      "name": "python3"
    }
  },
  "cells": [
    {
      "cell_type": "markdown",
      "metadata": {
        "id": "KxbAgQ_ocVES"
      },
      "source": [
        "---\n",
        "# 1 Introducción\n",
        "\n",
        "El siguiente cuaderno realiza la norma de N de 3 dimensiones vectores en forma secuencial,  utilizando el procesador CPU.\n",
        "\n",
        "<left>$V_0 = (X_0, Y_0, Z_0)$</left>  \n",
        "<left>$...$</left>\n",
        "\n",
        "<left>$V_n = (X_n, Y_n, Z_n)$</left>  \n",
        "\n",
        "<left>Luego,</left>\n",
        "\n",
        "<left>$||V_n|| = \\sqrt( X^2_n + Y^2_n + Z^2_n)  $</left>  \n",
        "\n",
        "El objetivo es calcular la fuerza correspondiente a N vectores para ser utilizado en ambientes de desarrollo gráfico o con fines de investigación científica."
      ]
    },
    {
      "cell_type": "markdown",
      "metadata": {
        "id": "M-bYqrOYL9hX"
      },
      "source": [
        "---\n",
        "# 2 Armado del ambiente\n",
        "No son necesarios, ejecuciones previas del armado del ambiente."
      ]
    },
    {
      "cell_type": "markdown",
      "metadata": {
        "id": "NzQaWRTtc1Zj"
      },
      "source": [
        "---\n",
        "# 3 Desarrollo\n"
      ]
    },
    {
      "cell_type": "code",
      "metadata": {
        "id": "9c7mZSnu0M3m"
      },
      "source": [
        "# --------------------------------------------\n",
        "#@title 3.1 Parámetro de ejecución: cantidad de vectores de 3 dimensiones { vertical-output: true }\n",
        "\n",
        "N = 5#@param {type: \"number\"}\n",
        "\n",
        "# --------------------------------------------\n",
        "\n",
        "from datetime import datetime\n",
        "import numpy\n",
        "\n",
        "tiempo_total = datetime.now()\n",
        "\n",
        "\n",
        "# --------------------------------------------\n",
        "# Definición de función que transforma el tiempo en  milisegundos \n",
        "tiempo_en_ms = lambda dt:(dt.days * 24 * 60 * 60 + dt.seconds) * 1000 + dt.microseconds / 1000.0\n",
        "\n",
        "\n",
        "# --------------------------------------------\n",
        "# CPU - Defino la memoria de los vectores en cpu.\n",
        "x_cpu = numpy.random.randn( cantidad_N )\n",
        "x_cpu = x_cpu.astype( numpy.float32() )\n",
        "\n",
        "y_cpu = numpy.random.randn( cantidad_N )\n",
        "y_cpu = y_cpu.astype( numpy.float32() )\n",
        "\n",
        "z_cpu = numpy.random.randn( cantidad_N )\n",
        "z_cpu = y_cpu.astype( numpy.float32() )\n",
        "\n",
        "v_cpu = numpy.empty_like( x_cpu )\n",
        "\n",
        "\n",
        "\n",
        "tiempo_bucle = datetime.now()\n",
        "\n",
        "for idx in range( 0, cantidad_N ):\n",
        "  v_cpu[idx] = numpy.sqrt(pow(x_cpu[idx], 2) + pow(y_cpu[idx], 2) + pow(z_cpu[idx], 2))\n",
        "\n",
        "tiempo_bucle = datetime.now() - tiempo_bucle\n",
        "\n",
        "# --------------------------------------------\n",
        "\n",
        "\n",
        "# CPU - Informo el resultado.\n",
        "print( \"------------------------------------\")\n",
        "print( \"X: \" )\n",
        "print( x_cpu )\n",
        "print( \"------------------------------------\")\n",
        "print( \"Y: \" )\n",
        "print( y_cpu )\n",
        "print( \"------------------------------------\")\n",
        "print( \"Z: \" )\n",
        "print( z_cpu )\n",
        "print( \"------------------------------------\")\n",
        "\n",
        "print( \"V: \" )\n",
        "print( v_cpu )\n",
        "print( \"------------------------------------\")\n",
        "\n",
        "\n",
        "tiempo_total = datetime.now() - tiempo_total\n",
        "\n",
        "print(\"Tiempo Total: \", tiempo_en_ms( tiempo_total ), \"[ms]\" )\n",
        "print(\"Tiempo bucle: \", tiempo_en_ms( tiempo_bucle ), \"[ms]\" )\n"
      ],
      "execution_count": null,
      "outputs": []
    },
    {
      "cell_type": "markdown",
      "metadata": {
        "id": "fwtyQB2tdJuG"
      },
      "source": [
        "---\n",
        "#4 Tabla de pasos\n",
        "Tabla de pasos de la ejecución del programa:\n",
        "\n",
        " Procesador | Función | Detalle\n",
        "------------|---------|----------\n",
        "CPU      |  @param                | Lectura del tamaño de vectores desde Colab.\n",
        "CPU      |  import                | Importa los módulos para funcionar.\n",
        "CPU      |  datetime.now()        | Toma el tiempo inicial.\n",
        "CPU      |  numpy.random.randn( Cantidad_N ) | Inicializa los vectores A, B y R.\n",
        "CPU      |  for...                | Realiza la norma de los vectores $(X_0, Y_0, Z_0) ... (X_n, Y_n, Z_n) $ , guardando el resultado en $V_n$. \n",
        "CPU      |  datetime.now()        | Toma el tiempo final.\n",
        "CPU      |  print()               | Informa los resultados.\n",
        "\n"
      ]
    },
    {
      "cell_type": "markdown",
      "metadata": {
        "id": "3PQxHPkDdo42"
      },
      "source": [
        "---\n",
        "# 5 Conclusiones\n",
        "\n",
        "Las conclusiones son explicadas en clase ...."
      ]
    },
    {
      "cell_type": "markdown",
      "metadata": {
        "id": "B4IHd-IqdvT1"
      },
      "source": [
        "---\n",
        "# 6 Bibliografía\n",
        "\n",
        "[1] MARKDOWN SYNTAX Colab: [PDF](https://github.com/wvaliente/SOA_HPC/blob/main/Documentos/markdown-cheatsheet-online.pdf)\n",
        "\n",
        "[2] Introducción a Python: [Página Colab](https://github.com/wvaliente/SOA_HPC/blob/main/Documentos/Python_Basico.ipynb) \n",
        "\n",
        "[3] Función Axpy de biblioteca BLAS: [Referencia](https://software.intel.com/content/www/us/en/develop/documentation/mkl-developer-reference-c/top/blas-and-sparse-blas-routines/blas-routines/blas-level-1-routines-and-functions/cblas-axpy.html)\n",
        "\n",
        "[4] Biblioteca BLAS: [Referencia](http://www.netlib.org/blas/)\n",
        "\n",
        "[5] Tutorial Point Colab: [PDF](https://github.com/wvaliente/SOA_HPC/blob/main/Documentos/markdown-cheatsheet-online.pdf)"
      ]
    }
  ]
}