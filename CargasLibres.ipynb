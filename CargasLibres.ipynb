{
  "nbformat": 4,
  "nbformat_minor": 0,
  "metadata": {
    "colab": {
      "name": "CargasLibres.ipynb",
      "provenance": [],
      "authorship_tag": "ABX9TyNAttmKC71/MLsJi+Dh1NR6",
      "include_colab_link": true
    },
    "kernelspec": {
      "name": "python3",
      "display_name": "Python 3"
    }
  },
  "cells": [
    {
      "cell_type": "markdown",
      "metadata": {
        "id": "view-in-github",
        "colab_type": "text"
      },
      "source": [
        "<a href=\"https://colab.research.google.com/github/maxiperezc/memoscopio/blob/master/CargasLibres.ipynb\" target=\"_parent\"><img src=\"https://colab.research.google.com/assets/colab-badge.svg\" alt=\"Open In Colab\"/></a>"
      ]
    },
    {
      "cell_type": "markdown",
      "metadata": {
        "id": "a5ksG5phwTlk"
      },
      "source": [
        "# Cargas Electricas Libres en 2D"
      ]
    },
    {
      "cell_type": "code",
      "metadata": {
        "id": "255f9bn-wFkC"
      },
      "source": [
        "import numpy as np\n",
        "import matplotlib.pyplot as plt\n",
        "from matplotlib import animation, rc\n",
        "from IPython.display import HTML\n",
        "\n",
        "positivas = 80#@param {type: \"number\"}\n",
        "negativas = 80#@param {type: \"number\"}\n",
        "numpoints = positivas + negativas\n",
        "colores = ['blue'] * positivas + ['red'] * negativas \n",
        "\n",
        "def move():\n",
        "  x_cpu  = np.random.uniform(20.0, 40.0, size=numpoints)\n",
        "  y_cpu  = np.random.uniform(20.0, 40.0, size=numpoints)\n",
        "  carga  = [1] * positivas + [-1] * negativas \n",
        "  vx_cpu = np.empty_like( x_cpu )\n",
        "  vy_cpu = np.empty_like( y_cpu )\n",
        "\n",
        "  while True:\n",
        "    for i in range( 0, numpoints ):\n",
        "      vx_cpu[i] = 0\n",
        "      vy_cpu[i] = 0\n",
        "      ex = 0\n",
        "      ey = 0\n",
        "\n",
        "      for j in range( 0, numpoints ):\n",
        "        if i != j:\n",
        "          dx = x_cpu[j] - x_cpu[i]\n",
        "          dy = y_cpu[j] - y_cpu[i]\n",
        "\n",
        "          rsq = pow(dx,2) + pow(dy,2)\n",
        "          rrt = rsq * np.sqrt(rsq)\n",
        "\n",
        "          if rrt > 1:\n",
        "            ch = carga[i]*carga[j]\n",
        "            ex -= ch*dx/rrt\n",
        "            ey -= ch*dy/rrt\n",
        "\n",
        "      vx_cpu[i] += ex\n",
        "      vy_cpu[i] += ey\n",
        "\n",
        "    for i in range( 0, numpoints ):\n",
        "      x_cpu[i] += vx_cpu[i]\n",
        "      y_cpu[i] += vy_cpu[i]\n",
        "\n",
        "    yield np.c_[x_cpu, y_cpu]\n",
        "\n",
        "def update(i):\n",
        "    data = next(stream)\n",
        "    scat.set_offsets(data)\n",
        "    return scat,\n",
        "\n",
        "fig, ax = plt.subplots()\n",
        "stream = move()\n",
        "x, y = next(stream).T\n",
        "print(x)\n",
        "print(y)\n",
        "scat = ax.scatter(x, y, c=colores, s=20, vmin=0, vmax=1)\n",
        "ax.axis([0, 60, 0, 60])\n",
        "    \n",
        "anim = animation.FuncAnimation(fig, update, frames=np.arange(0, 1, 0.005), interval=100, blit=True, repeat=True)\n",
        "\n",
        "# Note: below is the part which makes it work on Colab\n",
        "rc('animation', html='jshtml')\n",
        "anim"
      ],
      "execution_count": null,
      "outputs": []
    }
  ]
}